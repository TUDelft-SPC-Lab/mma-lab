{
 "cells": [
  {
   "cell_type": "markdown",
   "metadata": {},
   "source": [
    "# Introduction to NumPy\n",
    "Multimedia Analysis 2021/2022 <br>\n",
    "Author: Machine Learning Teaching Team TU Delft adapted by Ardy Zwanenburg"
   ]
  },
  {
   "cell_type": "markdown",
   "metadata": {},
   "source": [
    "**WHAT** This nonmandatory lab consists of several programming and insight exercises/questions. \n",
    "\n",
    "**WHY** The exercises are meant to prepare you for using Python and NumPy in this course. \n",
    "\n",
    "**HOW** Follow the exercises in the notebooks either on your own or with a fellow student. For questions and feedback please consult the TA's during the lab session. "
   ]
  },
  {
   "cell_type": "markdown",
   "metadata": {},
   "source": [
    "We advise you to follow this notebook and use it as a reference for later. __Make sure that you have followed the Python tutorial (intro1-python).__ These tutorials cover a whole lot of Python and NumPy and you don't have to know everything by heart right away. But it is important to be aware of the total picture as this helps while making later assignments. You will find that you will be better able to troubleshoot if you run into a problem. If, after walking through these tutorials, you still feel uncomfortable with Python, we recommend the following tutorials:\n",
    "* [The Python Tutorial] \n",
    "* [Python Numpy Tutorial]\n",
    "\n",
    "\n",
    "[Python Numpy Tutorial]: http://cs231n.github.io/python-numpy-tutorial/\n",
    "\n",
    "[The Python Tutorial]: https://docs.python.org/3/tutorial/index.html"
   ]
  },
  {
   "cell_type": "markdown",
   "metadata": {},
   "source": [
    "This tutorial consists of two steps: first, you will get familiarized with the basic operations on arrays in NumPy, after which you get to practice with a number of exercises. If you want more in-depth understanding of NumPy, we highly recommend [Stanfords NumPy tutorial]!\n",
    "\n",
    "[Stanfords NumPy tutorial]: http://cs231n.github.io/python-numpy-tutorial/"
   ]
  },
  {
   "cell_type": "markdown",
   "metadata": {},
   "source": [
    "## Step 1: Array programming with NumPy"
   ]
  },
  {
   "cell_type": "markdown",
   "metadata": {},
   "source": [
    "In this step we will show you the basics of array manipulation in NumPy.\n",
    "\n",
    "We strongly advise you to reference and read the manuals and tutorials on the web to make sure you learn how to use modern array manipulation to unleash its true power."
   ]
  },
  {
   "cell_type": "markdown",
   "metadata": {},
   "source": [
    "In machine learning we are dealing with massive amounts of data. This data is most often organised in tables (like for example in spreadsheets). When all data elements in a table are of the same datatype (like an integer or a floating point number) the table can be represented with a homogeneous array.\n",
    "\n",
    "Languages that are optimally suited for programming with data (like NumPy) are therefore equipped with array data types as an integral part of the language. An array is a data type to store lists of values. We can also create arrays of arrays, resulting in multi-dimensional arrays. NumPy provides tools to work with these multi-dimensional arrays in the form of the [`ndarray` class](https://docs.scipy.org/doc/numpy/reference/generated/numpy.ndarray.html).\n",
    "\n",
    "Let's first import the NumPy library:"
   ]
  },
  {
   "cell_type": "code",
   "execution_count": null,
   "metadata": {},
   "outputs": [],
   "source": [
    "import numpy as np"
   ]
  },
  {
   "cell_type": "markdown",
   "metadata": {},
   "source": [
    "### Declaring a regular Python list"
   ]
  },
  {
   "cell_type": "code",
   "execution_count": null,
   "metadata": {},
   "outputs": [],
   "source": [
    "list1 = [1, 2, 3, 4]\n",
    "type(list1)"
   ]
  },
  {
   "cell_type": "markdown",
   "metadata": {},
   "source": [
    "### Making a numpy array using Python lists"
   ]
  },
  {
   "cell_type": "code",
   "execution_count": null,
   "metadata": {},
   "outputs": [],
   "source": [
    "array1 = np.array(list1)\n",
    "array1"
   ]
  },
  {
   "cell_type": "code",
   "execution_count": null,
   "metadata": {},
   "outputs": [],
   "source": [
    "# The type of array1 is an ndarray: an n-dimensional array\n",
    "type(array1)"
   ]
  },
  {
   "cell_type": "code",
   "execution_count": null,
   "metadata": {},
   "outputs": [],
   "source": [
    "print(array1)"
   ]
  },
  {
   "cell_type": "markdown",
   "metadata": {},
   "source": [
    "### We can also use more dimensions"
   ]
  },
  {
   "cell_type": "code",
   "execution_count": null,
   "metadata": {},
   "outputs": [],
   "source": [
    "# Declare an extra list.\n",
    "list2 = [11, 22, 33, 44]\n",
    "# Combine the lists into a 2-dimensional list.\n",
    "lists = [list1, list2]\n",
    "lists"
   ]
  },
  {
   "cell_type": "code",
   "execution_count": null,
   "metadata": {},
   "outputs": [],
   "source": [
    "# make a 2-dimensional NumPy array\n",
    "array2 = np.array(lists)\n",
    "array2"
   ]
  },
  {
   "cell_type": "markdown",
   "metadata": {},
   "source": [
    "### And print their shapes\n",
    "We would obviously expect a (4,1) and a (4,2)... or don't we?"
   ]
  },
  {
   "cell_type": "code",
   "execution_count": null,
   "metadata": {},
   "outputs": [],
   "source": [
    "print(\"Arr1: \", array1.shape)\n",
    "print(\"Arr2: \", array2.shape)"
   ]
  },
  {
   "cell_type": "markdown",
   "metadata": {},
   "source": [
    "The best way to think about NumPy arrays is that they consist of two parts, a _data buffer_ which is just a block of raw elements, and a _view_ which describes how to interpret the data buffer.\n",
    "\n",
    "Here the shape `(4,)` means the array is indexed by a single index which runs from 0 to 3. The comma in `(4,)` is there to show that it is a tuple of integers, which is the data type of the shape attribute. Without the comma, it would simply be an integer, not a tuple of integers.\n",
    "\n",
    "In most situations the lack of a second dimension is not a problem. If it does turn into a problem (e.g. when you are trying to take a transpose of this vector) you can just call the `reshape` function on the array to generate a new view:"
   ]
  },
  {
   "cell_type": "code",
   "execution_count": null,
   "metadata": {},
   "outputs": [],
   "source": [
    "# Do note the double brackets, as the size is added as a tuple: (rows, columns)\n",
    "array1 = array1.reshape((4,1))\n",
    "array1.shape"
   ]
  },
  {
   "cell_type": "markdown",
   "metadata": {},
   "source": [
    "For the above examples, we happen to know what we stored in our array, but in some cases we are not aware (like when we imported lots of data). To find out, you can call `dtype`:\n"
   ]
  },
  {
   "cell_type": "code",
   "execution_count": null,
   "metadata": {},
   "outputs": [],
   "source": [
    "array2.dtype"
   ]
  },
  {
   "cell_type": "markdown",
   "metadata": {},
   "source": [
    "### Initializing regularly used arrays\n",
    "There are also basic ways to initialize certain arrays which are used regularly, such as:"
   ]
  },
  {
   "cell_type": "code",
   "execution_count": null,
   "metadata": {},
   "outputs": [],
   "source": [
    "# The empty array (makes an array but doesn't do any initialisation)\n",
    "print(\"Ex1: \", np.empty(5))\n",
    "\n",
    "# Array of 5 floating point zeros\n",
    "print(\"Ex2: \", np.zeros(5))\n",
    "\n",
    "# Array of 5 floating point ones\n",
    "print(\"Ex3: \", np.ones(5))\n",
    "\n",
    "# Array of 5 integer incrementing numbers\n",
    "print(\"Ex4: \", np.arange(5))\n",
    "\n",
    "# Start at 5, stop at 20, do it in steps of 2\n",
    "print(\"Ex5: \", np.arange(5, 20, 2))\n",
    "\n",
    "# Making the identity matrix (ones on the diagonal)\n",
    "print(\"Ex6: \")\n",
    "print(np.eye(5))"
   ]
  },
  {
   "cell_type": "markdown",
   "metadata": {},
   "source": [
    "### Mathematical operations\n"
   ]
  },
  {
   "cell_type": "markdown",
   "metadata": {},
   "source": [
    "The power of NumPy lies in the mathematical operations you can apply on those arrays. These are applied element-wise, which means that the operation is performed on each individual element in the array. Linear Algebra operations, like matrix multiplication or dot product are performed with special NumPy functions, like `np.matmul` or `np.dot`."
   ]
  },
  {
   "cell_type": "code",
   "execution_count": null,
   "metadata": {},
   "outputs": [],
   "source": [
    "array3 = np.array([[1, 2, 3, 4], [8, 9, 10, 11]])\n",
    "array3"
   ]
  },
  {
   "cell_type": "code",
   "execution_count": null,
   "metadata": {},
   "outputs": [],
   "source": [
    "# Element-wise multiplication\n",
    "array3 * array3"
   ]
  },
  {
   "cell_type": "code",
   "execution_count": null,
   "metadata": {},
   "outputs": [],
   "source": [
    "# Element-wise subtraction\n",
    "array3 - 5"
   ]
  },
  {
   "cell_type": "code",
   "execution_count": null,
   "metadata": {},
   "outputs": [],
   "source": [
    "# Division\n",
    "1 / array3"
   ]
  },
  {
   "cell_type": "code",
   "execution_count": null,
   "metadata": {},
   "outputs": [],
   "source": [
    "# Raising to a power\n",
    "array3 ** 3"
   ]
  },
  {
   "cell_type": "markdown",
   "metadata": {},
   "source": [
    "### You can also apply functions to all elements in an array at once"
   ]
  },
  {
   "cell_type": "markdown",
   "metadata": {},
   "source": [
    "The nice thing about NumPy arrays is that it allows you to manipulate the data in arrays without writing explicit loops. For instance look at the addition of all elements in an array:"
   ]
  },
  {
   "cell_type": "code",
   "execution_count": null,
   "metadata": {},
   "outputs": [],
   "source": [
    "# Array of random numbers\n",
    "a = np.random.rand(65536)"
   ]
  },
  {
   "cell_type": "code",
   "execution_count": null,
   "metadata": {},
   "outputs": [],
   "source": [
    "#calculate the sum of the elements in array\n",
    "def loopsum(a):\n",
    "    sum = 0\n",
    "    for i in range(len(a)):\n",
    "        sum += a[i]\n",
    "    return sum"
   ]
  },
  {
   "cell_type": "code",
   "execution_count": null,
   "metadata": {},
   "outputs": [],
   "source": [
    "%timeit loopsum(a)\n",
    "%timeit np.sum(a)"
   ]
  },
  {
   "cell_type": "markdown",
   "metadata": {},
   "source": [
    "You can see that the numpy loop is about 350 times faster than the explicit loop version.\n",
    "So be aware in this course to use built-in NumPy tools to manipulate and calculate with arrays.\n",
    "Some built-in functions of NumPy can be found [here].\n",
    "\n",
    "\n",
    "\n",
    "[here]: https://docs.scipy.org/doc/numpy/reference/ufuncs.html#math-operations\n",
    "\n"
   ]
  },
  {
   "cell_type": "markdown",
   "metadata": {},
   "source": [
    "### Indexing Arrays"
   ]
  },
  {
   "cell_type": "code",
   "execution_count": null,
   "metadata": {},
   "outputs": [],
   "source": [
    "array4 = np.arange(0, 10)\n",
    "array4"
   ]
  },
  {
   "cell_type": "markdown",
   "metadata": {},
   "source": [
    "There is a minor difference when it comes to indexing compared to Python lists: namely that a NumPy array allows an additional indexing method:"
   ]
  },
  {
   "cell_type": "code",
   "execution_count": null,
   "metadata": {},
   "outputs": [],
   "source": [
    "list3 = [[1, 2, 3], [4, 5, 6]]\n",
    "array5 = np.array(list3)\n",
    "\n",
    "# Watch the brackets closely.\n",
    "print(\"List: \", list3[1][2])\n",
    "# Array can use two different approaches\n",
    "print(\"Array \", array5[1, 2])\n",
    "print(\"Array \", array5[1][2])"
   ]
  },
  {
   "cell_type": "markdown",
   "metadata": {},
   "source": [
    "### Slicing arrays\n",
    "Sometimes you do not want the full array, but just parts of it, we can use array slicing for this:"
   ]
  },
  {
   "cell_type": "code",
   "execution_count": null,
   "metadata": {},
   "outputs": [],
   "source": [
    "# Show original array\n",
    "print(array5)\n",
    "# We want the element from the second row and third column:\n",
    "print(array5[1:2,2:3])"
   ]
  },
  {
   "cell_type": "code",
   "execution_count": null,
   "metadata": {},
   "outputs": [],
   "source": [
    "# We can also use it to set the value of multiple entries:\n",
    "array4 = np.arange(0, 10)\n",
    "array4[2:5] = 13\n",
    "print(array4)"
   ]
  },
  {
   "cell_type": "markdown",
   "metadata": {},
   "source": [
    "One important thing to note is that a slice is just another _view_ of the underlying data buffer. If you change data in the slice, you are actually changing the data in the underlying data buffer and thus in the orginal array. This is advantageous for the memory efficiency of your program, but sometimes it can cause errors when overlooked."
   ]
  },
  {
   "cell_type": "code",
   "execution_count": null,
   "metadata": {},
   "outputs": [],
   "source": [
    "array4 = np.arange(0, 10)\n",
    "# Take a slice, consisting of the 3rd (index 2) to 6th (index 5) element.\n",
    "slice_array4 = array4[2:6]\n",
    "# We iterate over all values, setting them to 22\n",
    "slice_array4[:] = 22\n",
    "print(slice_array4)\n",
    "print(array4)"
   ]
  },
  {
   "cell_type": "markdown",
   "metadata": {},
   "source": [
    "To prevent this, we can also make a new copy. In this way we do not generate a view, but actually reserve new memory for the object we are making:"
   ]
  },
  {
   "cell_type": "code",
   "execution_count": null,
   "metadata": {},
   "outputs": [],
   "source": [
    "array4 = np.arange(0, 10)\n",
    "array5 = array4.copy()\n",
    "print(array4)\n",
    "print(array5)\n",
    "array5[:] = 22\n",
    "print(\"So did we make a copy?\")\n",
    "print(array4)\n",
    "print(array5)\n",
    "print(\"Seems we did.\")"
   ]
  },
  {
   "cell_type": "markdown",
   "metadata": {},
   "source": [
    "#### 2D array slicing"
   ]
  },
  {
   "cell_type": "code",
   "execution_count": null,
   "metadata": {},
   "outputs": [],
   "source": [
    "array6 = np.array([[2, 4, 6], [8, 10, 12], [14, 16, 18]])\n",
    "print(array6)\n",
    "# let's say you only want just the upper right square of 2x2 of the above matrix\n",
    "# reminder: when indexing with array[start:stop]\n",
    "# the element at start is *included*, while the elemnt at stop is *excluded*\n",
    "array6[:2, 1:]"
   ]
  },
  {
   "cell_type": "markdown",
   "metadata": {},
   "source": [
    "#### Fancy Indexing\n",
    "Sometimes you don't want to retrieve every row, but perhaps skip a few entries. This is easily possible in Python. Let us assume we only want the 2nd, 3rd, 5th, and 7th row in the following example."
   ]
  },
  {
   "cell_type": "code",
   "execution_count": null,
   "metadata": {},
   "outputs": [],
   "source": [
    "# Below we use a list comprehension (which you should have seen in Introduction to Programming as well)\n",
    "# To generate an array with 10 rows, and each column goes from 0 to 10.\n",
    "array7 = np.array([[j for i in range(10)] for j in range(10)])\n",
    "print(array7)\n",
    "# As we start at index 0, we actually want the following rows [1, 2, 4, 6].\n",
    "# Also note the double brackets below.\n",
    "print(\"With fancy indexing:\")\n",
    "print(array7[[1, 2, 4, 6]])"
   ]
  },
  {
   "cell_type": "markdown",
   "metadata": {},
   "source": [
    "You can do the above even in any order you wish."
   ]
  },
  {
   "cell_type": "code",
   "execution_count": null,
   "metadata": {},
   "outputs": [],
   "source": [
    "array7[[6, 2, 4, 1]]"
   ]
  },
  {
   "cell_type": "markdown",
   "metadata": {},
   "source": [
    "### Array Transposition"
   ]
  },
  {
   "cell_type": "code",
   "execution_count": null,
   "metadata": {},
   "outputs": [],
   "source": [
    "array8 = np.arange(40).reshape((8, 5))\n",
    "array8"
   ]
  },
  {
   "cell_type": "code",
   "execution_count": null,
   "metadata": {},
   "outputs": [],
   "source": [
    "# If you want to transpose a matrix you can do this in two ways:\n",
    "\n",
    "print(np.transpose(array8))\n",
    "# Or\n",
    "print(array8.T)"
   ]
  },
  {
   "cell_type": "markdown",
   "metadata": {},
   "source": [
    "### Array Processing\n",
    "\n",
    "We can also apply functions on arrays to retrieve specific information from them, or to process the information that is contained. In this section, we will survey a number of these handy functions."
   ]
  },
  {
   "cell_type": "markdown",
   "metadata": {},
   "source": [
    "#### Numpy Where\n",
    "\n",
    "When you want to find the location of elements in an array, you can use `np.where`. This function takes in a condition and returns the indices of the array where the condition is true."
   ]
  },
  {
   "cell_type": "code",
   "execution_count": null,
   "metadata": {},
   "outputs": [],
   "source": [
    "# A simple np.where example:\n",
    "A = np.array([1, 2, 3, 4])\n",
    "indices = np.where(A < 3)\n",
    "print(indices)\n",
    "print(A[indices])"
   ]
  },
  {
   "cell_type": "markdown",
   "metadata": {},
   "source": [
    "#### Numpy Any & All\n",
    "\n",
    "As shown before, we can apply a boolean operator on an array, which will return an array with boolean values:"
   ]
  },
  {
   "cell_type": "code",
   "execution_count": null,
   "metadata": {},
   "outputs": [],
   "source": [
    "a = np.arange(9).reshape(3, 3)\n",
    "bool_arr = a < 4\n",
    "print(bool_arr)"
   ]
  },
  {
   "cell_type": "markdown",
   "metadata": {},
   "source": [
    "Now, what if we want to return each row where any of the elements is true, we can do that with `any` in combination with `where`:"
   ]
  },
  {
   "cell_type": "code",
   "execution_count": null,
   "metadata": {},
   "outputs": [],
   "source": [
    "# Return the indices of the rows where any column (axis=1) is true\n",
    "indices = np.where(bool_arr.any(axis=1))\n",
    "bool_arr[indices]\n",
    "# You can see that the last row is excluded as this row doesn't contain any True values"
   ]
  },
  {
   "cell_type": "markdown",
   "metadata": {},
   "source": [
    "And what if we want all elements in the row to be true? We can use `all`:"
   ]
  },
  {
   "cell_type": "code",
   "execution_count": null,
   "metadata": {},
   "outputs": [],
   "source": [
    "# If all values are true, return true (else false)\n",
    "indices = np.where(bool_arr.all(axis=1))\n",
    "bool_arr[indices]\n",
    "# You can see that only the first row is included as this row is the only one to contain only True values"
   ]
  },
  {
   "cell_type": "markdown",
   "metadata": {},
   "source": [
    "#### Numpy Unique and `in` checking"
   ]
  },
  {
   "cell_type": "code",
   "execution_count": null,
   "metadata": {},
   "outputs": [],
   "source": [
    "# Sometimes you just want to know all the unique values in a numpy array\n",
    "# Luckily that function was already implemented for you\n",
    "letters = ['A', 'B', 'C', 'D', 'D', 'A', 'E', 'F', 'G', 'H', 'Z']\n",
    "np.unique(letters)"
   ]
  },
  {
   "cell_type": "code",
   "execution_count": null,
   "metadata": {},
   "outputs": [],
   "source": [
    "# We can also easily check whether a big array exists,\n",
    "# if it exists within a 1D vector.\n",
    "np.in1d(['X', 'C', 'M', 'Z'], letters)"
   ]
  },
  {
   "cell_type": "markdown",
   "metadata": {},
   "source": [
    "## Step 2: Practice Numpy\n"
   ]
  },
  {
   "cell_type": "markdown",
   "metadata": {},
   "source": [
    "These are optional exercises, but highly recommended to get you familiar with some basic NumPy operations and tricks. If you get stuck, try to dive into the Numpy documentation first, to see if it can be of help as not all functions you need for the exercises are explained above."
   ]
  },
  {
   "cell_type": "markdown",
   "metadata": {},
   "source": [
    "### Array Calculations and Array Indexing\n",
    "In all exercises below you are not allowed to use a loop."
   ]
  },
  {
   "cell_type": "code",
   "execution_count": null,
   "metadata": {},
   "outputs": [],
   "source": [
    "# Given two arrays A and B each of the same size calculate their sum (elementwise) and their product (elementwise).\n",
    "A = np.arange(5)\n",
    "B = np.arange(5, 10)\n",
    "\n",
    "def sum_arrays(A, B):\n",
    "    result = None\n",
    "    # START ANSWER\n",
    "\n",
    "    # END ANSWER\n",
    "    return result\n",
    "\n",
    "def multiply_arrays(A, B):\n",
    "    result = None\n",
    "    # START ANSWER\n",
    "\n",
    "    # END ANSWER\n",
    "    return result\n",
    "\n",
    "sum_AB = sum_arrays(A, B)\n",
    "assert (sum_AB == np.array([ 5,  7,  9, 11, 13])).all()\n",
    "mult_AB = multiply_arrays(A, B)\n",
    "assert (mult_AB == np.array([ 0,  6, 14, 24, 36])).all()\n",
    "\n",
    "sum_AB, mult_AB"
   ]
  },
  {
   "cell_type": "code",
   "execution_count": null,
   "metadata": {},
   "outputs": [],
   "source": [
    "# Given an array A with shape (128,) calculate the mean of the elements at even indexes.\n",
    "A = np.arange(128)\n",
    "\n",
    "def mean_even_idx(A):\n",
    "    result = None\n",
    "    # START ANSWER\n",
    "\n",
    "    # END ANSWER\n",
    "    return result\n",
    "\n",
    "mean_A = mean_even_idx(A)\n",
    "assert mean_A == 63.0\n",
    "\n",
    "mean_A"
   ]
  },
  {
   "cell_type": "code",
   "execution_count": null,
   "metadata": {},
   "outputs": [],
   "source": [
    "# Given an array A with shape (N,) make an array with all elements of A in reverse order\n",
    "# and return as a matrix of size (N, 1).\n",
    "A = np.arange(6)\n",
    "\n",
    "def reverse(A):\n",
    "    result = None\n",
    "    # START ANSWER\n",
    "\n",
    "    # END ANSWER\n",
    "    return result\n",
    "\n",
    "rev = reverse(A)\n",
    "assert (rev == np.array([[5],[4],[3],[2],[1],[0]])).all()\n",
    "rev"
   ]
  },
  {
   "cell_type": "markdown",
   "metadata": {},
   "source": [
    "#### Two dimensional data arrays\n",
    "In this course you will be working a lot with matrices and vectors. The following exercises will let you practice with those.\n",
    "\n",
    "Given is data matrix X with shape (m, n)"
   ]
  },
  {
   "cell_type": "code",
   "execution_count": null,
   "metadata": {},
   "outputs": [],
   "source": [
    "m = n = 5\n",
    "X = np.arange(m * n).reshape(m, n)\n",
    "\n",
    "print(X)"
   ]
  },
  {
   "cell_type": "code",
   "execution_count": null,
   "metadata": {},
   "outputs": [],
   "source": [
    "# Select the j-th column from the matrix X. What happens if you use X[j]? Is this correct?\n",
    "j = 3\n",
    "column = None\n",
    "# START ANSWER\n",
    "\n",
    "# END ANSWER\n",
    "\n",
    "assert (column == np.array([ 3,  8, 13, 18, 23])).all()\n",
    "column"
   ]
  },
  {
   "cell_type": "code",
   "execution_count": null,
   "metadata": {},
   "outputs": [],
   "source": [
    "# Given an ndarray X with shape (m,n), calculate the mean of each column.\n",
    "# Try doing this without using np.mean or loops.\n",
    "# Hint: try to sum up the entries and dividing them by the number of elements\n",
    "\n",
    "means = 0\n",
    "# START ANSWER\n",
    "\n",
    "# END ANSWER\n",
    "\n",
    "assert (means == np.array([10., 11., 12., 13., 14.])).all()\n",
    "means"
   ]
  },
  {
   "cell_type": "code",
   "execution_count": null,
   "metadata": {},
   "outputs": [],
   "source": [
    "# Now subtract the mean vector you just calculated from all the rows in your matrix leading to the \n",
    "# data matrix X_0. Yes this can be done without a loop! Hint: look at array broadcasting.\n",
    "\n",
    "X_0 = None\n",
    "# START ANSWER\n",
    "\n",
    "# END ANSWER\n",
    "\n",
    "assert (X_0 == np.array([[-10., -10., -10., -10., -10.],\n",
    "                         [ -5.,  -5.,  -5.,  -5.,  -5.],\n",
    "                         [  0.,   0.,   0.,   0.,   0.],\n",
    "                         [  5.,   5.,   5.,   5.,   5.],\n",
    "                         [ 10.,  10.,  10.,  10.,  10.]])\n",
    "       ).all()\n",
    "X_0"
   ]
  },
  {
   "cell_type": "code",
   "execution_count": null,
   "metadata": {},
   "outputs": [],
   "source": [
    "# Given column j, find the largest element and return the entire row of this element.\n",
    "# Hint: look at the function np.argmax for this.\n",
    "X = np.random.rand(m, n)\n",
    "j = 3\n",
    "\n",
    "# START ANSWER\n",
    "\n",
    "# END ANSWER\n",
    "\n",
    "# Please inspect visually whether your code returns the right row\n",
    "X, max_row"
   ]
  },
  {
   "cell_type": "markdown",
   "metadata": {},
   "source": [
    "#### Advanced Linear Algebra"
   ]
  },
  {
   "cell_type": "markdown",
   "metadata": {},
   "source": [
    "In Python 3, the @ operator is introduced for matrix multiplication. Let A be an array of shape (m, n) and \n",
    "let B be an array of shape (n, k) then we can write A @ B for the matrix multiplication of A and B. \n",
    "\n",
    "Note that there is conceptual difference between a 1 dimensional array V of size (N,) \n",
    "and a vector V as we know it from linear algebra. In linear algebra, a vector with $N$ elements has dimensions $N \\times 1$. \n",
    "A ‘vector’ V as a numpy array has shape (N,).\n",
    "\n",
    "\n"
   ]
  },
  {
   "cell_type": "code",
   "execution_count": null,
   "metadata": {},
   "outputs": [],
   "source": [
    "# Calculate the inner product of two vector v and w both of shape (N,).\n",
    "# Validate your result by computing the dot product using multiply and sum operations.\n",
    "v = np.arange(5)\n",
    "w = np.arange(5, 10)\n",
    "\n",
    "# START ANSWER\n",
    "\n",
    "# END ANSWER"
   ]
  },
  {
   "cell_type": "code",
   "execution_count": null,
   "metadata": {},
   "outputs": [],
   "source": [
    "# Calculate the product of a matrix A of shape (M,N) with a vector v of shape (N,).\n",
    "m = n = 5\n",
    "X = np.arange(m * n).reshape(m, n)\n",
    "v = np.arange(n)\n",
    "\n",
    "product = None\n",
    "# START ANSWER\n",
    "\n",
    "# END ANSWER\n",
    "\n",
    "assert (product == np.array([ 30,  80, 130, 180, 230])).all()\n",
    "product        "
   ]
  }
 ],
 "metadata": {
  "kernelspec": {
   "display_name": "Python 3",
   "language": "python",
   "name": "python3"
  },
  "language_info": {
   "codemirror_mode": {
    "name": "ipython",
    "version": 3
   },
   "file_extension": ".py",
   "mimetype": "text/x-python",
   "name": "python",
   "nbconvert_exporter": "python",
   "pygments_lexer": "ipython3",
   "version": "3.6.6"
  }
 },
 "nbformat": 4,
 "nbformat_minor": 4
}
